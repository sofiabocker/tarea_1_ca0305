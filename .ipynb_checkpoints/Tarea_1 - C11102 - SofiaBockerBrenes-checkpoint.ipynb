{
 "cells": [
  {
   "cell_type": "markdown",
   "id": "2801c3e8-163c-44f8-b852-15364164ca9d",
   "metadata": {
    "jp-MarkdownHeadingCollapsed": true
   },
   "source": [
    "# Tarea_1 - C11102 - SofiaBockerBrenes"
   ]
  },
  {
   "cell_type": "code",
   "execution_count": 1,
   "id": "70b92b96-d889-4532-a9b1-a544548e133f",
   "metadata": {},
   "outputs": [],
   "source": [
    "with open('Subir_GitHub.txt', 'w') as f:\n",
    "    f.write('Mi tarea es Tarea_1 - C11102. Ejercicio 8 ¡Facilito!') # crea un archivo llamado 'Subir_GitHub.txt' en la carpeta que se está trabajando \n",
    "# también escribe 'Mi tarea es Tarea_1 - C11102. Ejercicio 8 ¡Facilito!' dentro del archivo"
   ]
  },
  {
   "cell_type": "markdown",
   "id": "790f87e4-e5d3-45a4-94e3-25da87e34997",
   "metadata": {
    "jp-MarkdownHeadingCollapsed": true
   },
   "source": [
    "# Ejercicio 1"
   ]
  },
  {
   "cell_type": "code",
   "execution_count": 2,
   "id": "760c5bf0-66e6-4529-a65e-4437f27f7806",
   "metadata": {},
   "outputs": [
    {
     "data": {
      "text/plain": [
       "{'Dividendo': [37, 67, 69],\n",
       " 'Divisor': [4, 4, 4],\n",
       " 'Cociente': [9.25, 16.75, 17.25],\n",
       " 'Residuo': [1, 3, 1]}"
      ]
     },
     "execution_count": 2,
     "metadata": {},
     "output_type": "execute_result"
    }
   ],
   "source": [
    "import random # descarga una librería que genera números aleatorios\n",
    "\n",
    "def division(dividendo_1: int, dividendo_2: int, dividendo_3: int, divisor: int): # función que recibe cuatro valores\n",
    "    lista_dividendos = [dividendo_1, dividendo_2, dividendo_3] # crea una lista con los primeros tres valores aleatorios que van a actuar como dividendos\n",
    "\n",
    "    lista_divisor = [divisor, divisor, divisor] # crea una lista con el último valor aleatorio que va a actuar como divisor para los tres dividendos\n",
    "\n",
    "    lista_cocientes = [dividendo_1/divisor, dividendo_2/divisor, dividendo_3/divisor] # crea una lista con los cocientes de los tres dividendos y el divisor\n",
    "\n",
    "    lista_residuos = [dividendo_1%divisor, dividendo_2%divisor, dividendo_3%divisor] # crea una lista con los residuos de los tres divisores con el dividendo\n",
    "\n",
    "    dic_division = {\n",
    "        \"Dividendo\": lista_dividendos,\n",
    "        \"Divisor\": lista_divisor,\n",
    "        \"Cociente\": lista_cocientes,\n",
    "        \"Residuo\": lista_residuos\n",
    "    } # crea un diccionario con los componentes de la división\n",
    "\n",
    "    return dic_division # la función devuelve el diccionario con los componentes de la división\n",
    "\n",
    "division(dividendo_1 = random.randint(1,100), dividendo_2 = random.randint(1,100), dividendo_3 = random.randint(1,100), divisor = random.randint(1,10)) # llama a la función división y genera los números aleatorios para la divisón  "
   ]
  },
  {
   "cell_type": "markdown",
   "id": "c3a48fc8-b83b-4a3c-851b-b055c6a79afa",
   "metadata": {
    "jp-MarkdownHeadingCollapsed": true
   },
   "source": [
    "# Ejercicio 2"
   ]
  },
  {
   "cell_type": "code",
   "execution_count": 3,
   "id": "ac59573c-4579-4008-a92f-822e3bd046e5",
   "metadata": {},
   "outputs": [
    {
     "data": {
      "text/plain": [
       "{'¡Hola!,': 1, '¿cómo': 1, 'va': 1, 'todo?': 1, 'Éxitos': 1}"
      ]
     },
     "execution_count": 3,
     "metadata": {},
     "output_type": "execute_result"
    }
   ],
   "source": [
    "def apariciones(cadena: str): # función que recibe una cadena\n",
    "    dic_apariciones = {\n",
    "        '¡Hola!,': cadena.count('¡Hola!,'),\n",
    "        '¿cómo': cadena.count('¿cómo'),\n",
    "        'va': cadena.count('va'),\n",
    "        'todo?': cadena.count('todo?'),\n",
    "        'Éxitos': cadena.count('Éxitos')\n",
    "    } # diccionario que cuenta cuánta veces aparece cada palabra de la cadena '¡Hola!, ¿cómo va todo? Éxitos'\n",
    "    return dic_apariciones # la función devuelve el diccionario\n",
    "\n",
    "apariciones('¡Hola!, ¿cómo va todo? Éxitos') # llama a la función utilizando la cadena '¡Hola!, ¿cómo va todo? Éxitos'"
   ]
  },
  {
   "cell_type": "markdown",
   "id": "7a0a1972-f000-4ccf-9cdb-9ecca500c1f5",
   "metadata": {
    "jp-MarkdownHeadingCollapsed": true
   },
   "source": [
    "# Ejercicio 3"
   ]
  },
  {
   "cell_type": "code",
   "execution_count": 4,
   "id": "969af1f2-91f7-49fe-9961-a9568c062986",
   "metadata": {},
   "outputs": [
    {
     "data": {
      "text/plain": [
       "{'!': 1, '¡': 1, ',': 2, '¿': 1, '?': 1, '': 'Hay 6 signos de puntuación'}"
      ]
     },
     "execution_count": 4,
     "metadata": {},
     "output_type": "execute_result"
    }
   ],
   "source": [
    "def signos_puntuacion(cadena: str): # función que recibe una cadena\n",
    "    suma = cadena.count('!')+cadena.count('¡')+cadena.count(',')+cadena.count('¿')+cadena.count('?') # cuenta la cantidad de veces que aparece cierto signo y las sumas\n",
    "    dic_signos_puntuacion = {\n",
    "        '!': cadena.count('!'),\n",
    "        '¡': cadena.count('¡'),\n",
    "        ',': cadena.count(','),\n",
    "        '¿': cadena.count('¿'),\n",
    "        '?': cadena.count('?'),\n",
    "        '': f'Hay {suma} signos de puntuación'\n",
    "    } # diccionario con el signo y la cantidad de veces que aparece y la suma total de signos.\n",
    "    return dic_signos_puntuacion # para devolver diccionario con el signo y la cantidad de veces que aparece\n",
    "\n",
    "signos_puntuacion('\\'¡Hola!, ¿cómo va todo?, Éxitos\\'') # llamar a la función utilizando la cadena '¡Hola!, ¿cómo va todo?, Éxitos'"
   ]
  },
  {
   "cell_type": "markdown",
   "id": "e4c80564-e641-43d2-8af3-4ce3f07b7bc7",
   "metadata": {
    "jp-MarkdownHeadingCollapsed": true
   },
   "source": [
    "# Ejercicio 4"
   ]
  },
  {
   "cell_type": "code",
   "execution_count": 5,
   "id": "1074b15e-fa29-4b1f-a5bc-f04aa50e93f1",
   "metadata": {},
   "outputs": [
    {
     "data": {
      "text/plain": [
       "{'o': 'mundo'}"
      ]
     },
     "execution_count": 5,
     "metadata": {},
     "output_type": "execute_result"
    }
   ],
   "source": [
    "def texto_caracter(texto: str, caracter: str): # función que recibe un texto y un caracter\n",
    "    texto_separado = texto.split()\n",
    "    \n",
    "    dic_texto_0 = {\n",
    "        caracter: texto_separado[0] # extrae la primera palabra del texto\n",
    "    }\n",
    "    dic_texto_1 = {\n",
    "        caracter: texto_separado[1] # extrae la segunda palabra del texto\n",
    "    }\n",
    "    \n",
    "    if(texto_separado[0].find(caracter) != -1): # si la primera palabra tiene el caracter\n",
    "        if(len(texto_separado[0]) > len(texto_separado[1])): # compara el largo de la primera palabra con el largo de la segunda\n",
    "            return dic_texto_0 #  si la primera palabra es más larga, devuelve el caracter y la primera palabra\n",
    "        else: # en caso de que la segunda palabra sea más larga\n",
    "            if(texto_separado[1].find(caracter) != -1): # si la segunda palabra tiene el caracter\n",
    "                return dic_texto_1 # devuelve el caracter y la segunda palabra\n",
    "            else: # si la segunda palabra es más larga y no tiene el caracter\n",
    "                return dic_texto_0 # devuelve la primera palabra\n",
    "    else: # si la primera palabra no tiene el caracter\n",
    "        if(texto_separado[1].find(caracter) != -1): # si la segunda palabra tiene el caracter\n",
    "            return dic_texto_1 # devuelve la segunda palabra\n",
    "        else: # si ninguna palabra tiene el caracters\n",
    "            return 'El caracter \\'' + caracter + '\\' no se encuentra en el texto' # devuelve este texto anunciando que el caracter no se encuentra en le texto\n",
    "    \n",
    "texto_caracter('Hola mundo', 'o') # llama la función con el texto 'Hola mundo' y el caracter 'o'"
   ]
  },
  {
   "cell_type": "markdown",
   "id": "15a6f9a3-b90b-4df0-bdb3-8cf437c7f040",
   "metadata": {
    "jp-MarkdownHeadingCollapsed": true
   },
   "source": [
    "# Ejercicio 5"
   ]
  },
  {
   "cell_type": "code",
   "execution_count": 6,
   "id": "81d3984d-26f1-4a57-9611-76f94f0d6c95",
   "metadata": {},
   "outputs": [
    {
     "data": {
      "text/plain": [
       "{'Promedio de edad': 29.5,\n",
       " 'Edad máxima': 65,\n",
       " 'Edad mínima': 7,\n",
       " 'Grado mayor de emergencia': 5,\n",
       " '¿Qué paciente pagó más?': 28006000}"
      ]
     },
     "execution_count": 6,
     "metadata": {},
     "output_type": "execute_result"
    }
   ],
   "source": [
    "import datetime \n",
    "\n",
    "def caract_pacientes(lista_pacientes: dict): # función que recibe un diccionario\n",
    "    suma_edades = lista_pacientes[\"1\"][\"Edad\"] + lista_pacientes[\"2\"][\"Edad\"] + lista_pacientes[\"3\"][\"Edad\"] + lista_pacientes[\"4\"][\"Edad\"] #  suma las edades de cada paciente en el diccionario\n",
    "    dic_caract = { # crea un diccionario\n",
    "        'Promedio de edad': suma_edades/4, # saca el promedio de las edades\n",
    "        'Edad máxima': max(lista_pacientes[\"1\"][\"Edad\"], lista_pacientes[\"2\"][\"Edad\"], lista_pacientes[\"3\"][\"Edad\"], lista_pacientes[\"4\"][\"Edad\"]), # saca el máximo de las edades\n",
    "        'Edad mínima': min(lista_pacientes[\"1\"][\"Edad\"], lista_pacientes[\"2\"][\"Edad\"], lista_pacientes[\"3\"][\"Edad\"], lista_pacientes[\"4\"][\"Edad\"]), # saca el mínimo de las edades\n",
    "        'Grado mayor de emergencia': max(lista_pacientes[\"1\"][\"Nivel de emergencia\"], lista_pacientes[\"2\"][\"Nivel de emergencia\"], lista_pacientes[\"3\"][\"Nivel de emergencia\"], lista_pacientes[\"4\"][\"Nivel de emergencia\"]), # saca el nivel máximo de emergencia\n",
    "        '¿Qué paciente pagó más?':max(lista_pacientes[\"1\"][\"Pago de servicios\"], lista_pacientes[\"2\"][\"Pago de servicios\"], lista_pacientes[\"3\"][\"Pago de servicios\"], lista_pacientes[\"4\"][\"Pago de servicios\"]), # saca el pago máximp\n",
    "    }\n",
    "    return dic_caract # devuelve el diccionario\n",
    "    \n",
    "caract_pacientes(lista_pacientes = {\n",
    "    \"1\": {\n",
    "    \"Edad\": 23,\n",
    "    \"Tipo sangre\": \"-O\",\n",
    "    \"Fecha ingreso\": datetime.datetime(2023, 6, 1),\n",
    "    \"Fecha salida\": datetime.datetime(2023, 6, 15),\n",
    "    \"Nivel de emergencia\": 2,\n",
    "    \"Pago de servicios\": 502333\n",
    "    },\n",
    "    \"2\": {\n",
    "    \"Edad\": 7,\n",
    "    \"Tipo sangre\": \"AB+\",\n",
    "    \"Fecha ingreso\": datetime.datetime(2024, 1, 1),\n",
    "    \"Fecha salida\": datetime.datetime(2024, 3, 22), \n",
    "    # Asumiendo que el valor de la fecha de salida es NA debido a que la persona no se ha recuperado (por ende, no ha salido del hospital) al ser una emergencia de nivel 5, se utilizó la fecha del día que se asignó la tarea \n",
    "    \"Nivel de emergencia\": 5,\n",
    "    \"Pago de servicios\": 0 # se decidió dejar este valor en 0 porque, de nuevo, la persona no ha salido del hospital, por lo que aún no ha pagado\n",
    "    },\n",
    "    \"3\": {\n",
    "    \"Edad\": 65,\n",
    "    \"Tipo sangre\": \"AB+\",\n",
    "    \"Fecha ingreso\": datetime.datetime(2023, 2, 1),\n",
    "    \"Fecha salida\": datetime.datetime(2024, 2, 1),\n",
    "    \"Nivel de emergencia\": 4,\n",
    "    \"Pago de servicios\": 28006000\n",
    "    },\n",
    "    \"4\": {\n",
    "    \"Edad\": 23,\n",
    "    \"Tipo sangre\": \"AB-\",\n",
    "    \"Fecha ingreso\": datetime.datetime(2024, 2, 1),\n",
    "    \"Fecha salida\": datetime.datetime(2024, 2, 1),\n",
    "    \"Nivel de emergencia\": 0,\n",
    "    \"Pago de servicios\": 200300\n",
    "    },\n",
    "}) # llama la función con el diccionario lista_pacientes\n",
    "\n"
   ]
  },
  {
   "cell_type": "markdown",
   "id": "8afd5a88-d3d8-4b11-a179-bd25e0ddd947",
   "metadata": {
    "jp-MarkdownHeadingCollapsed": true
   },
   "source": [
    "# Ejercicio 6"
   ]
  },
  {
   "cell_type": "code",
   "execution_count": 7,
   "id": "21b823be-301f-4bb8-9bb0-08b14a907a6a",
   "metadata": {},
   "outputs": [
    {
     "data": {
      "text/plain": [
       "{'1': {'Pago sin IVA': 210000,\n",
       "  'Pago con IVA': 237300.0,\n",
       "  'IVA': 27300.0,\n",
       "  'Diferencia con pago actual': -265033.0},\n",
       " '2': {'Pago sin IVA': 3000000,\n",
       "  'Pago con IVA': 3390000.0,\n",
       "  'IVA': 390000.0,\n",
       "  'Diferencia con pago actual': 3390000.0},\n",
       " '3': {'Pago sin IVA': 12000000,\n",
       "  'Pago con IVA': 13560000.0,\n",
       "  'IVA': 1560000.0,\n",
       "  'Diferencia con pago actual': -14446000.0},\n",
       " '4': {'Pago sin IVA': 8000,\n",
       "  'Pago con IVA': 9040.0,\n",
       "  'IVA': 1040.0,\n",
       "  'Diferencia con pago actual': -191260.0}}"
      ]
     },
     "execution_count": 7,
     "metadata": {},
     "output_type": "execute_result"
    }
   ],
   "source": [
    "lista_pacientes = {\n",
    "    \"1\": {\n",
    "    \"Edad\": 23,\n",
    "    \"Tipo sangre\": \"-O\",\n",
    "    \"Fecha ingreso\": datetime.datetime(2023, 6, 1),\n",
    "    \"Fecha salida\": datetime.datetime(2023, 6, 15),\n",
    "    \"Nivel de emergencia\": 2,\n",
    "    \"Pago de servicios\": 502333\n",
    "    },\n",
    "    \"2\": {\n",
    "    \"Edad\": 7,\n",
    "    \"Tipo sangre\": \"AB+\",\n",
    "    \"Fecha ingreso\": datetime.datetime(2024, 1, 1),\n",
    "    \"Fecha salida\": datetime.datetime(2024, 3, 22), \n",
    "    # Asumiendo que el valor de la fecha de salida es NA debido a que la persona no se ha recuperado (por ende, no ha salido del hospital) al ser una emergencia de nivel 5, se utilizó la fecha del día que se asignó la tarea \n",
    "    \"Nivel de emergencia\": 5,\n",
    "    \"Pago de servicios\": 0 # se decidió dejar este valor en 0 porque, de nuevo, la persona no ha salido del hospital, por lo que aún no ha pagado\n",
    "    },\n",
    "    \"3\": {\n",
    "    \"Edad\": 65,\n",
    "    \"Tipo sangre\": \"AB+\",\n",
    "    \"Fecha ingreso\": datetime.datetime(2023, 2, 1),\n",
    "    \"Fecha salida\": datetime.datetime(2024, 2, 1),\n",
    "    \"Nivel de emergencia\": 4,\n",
    "    \"Pago de servicios\": 28006000\n",
    "    },\n",
    "    \"4\": {\n",
    "    \"Edad\": 23,\n",
    "    \"Tipo sangre\": \"AB-\",\n",
    "    \"Fecha ingreso\": datetime.datetime(2024, 2, 1),\n",
    "    \"Fecha salida\": datetime.datetime(2024, 2, 1),\n",
    "    \"Nivel de emergencia\": 0,\n",
    "    \"Pago de servicios\": 200300\n",
    "    },\n",
    "} # crea diccionario lista_pacientes\n",
    "\n",
    "estadia_1 = lista_pacientes[\"1\"][\"Fecha salida\"] - lista_pacientes[\"1\"][\"Fecha ingreso\"]\n",
    "hospi_1 = estadia_1.days # saca la cantidad de días que el paciente 1 estuvo en el hospital\n",
    "\n",
    "estadia_2 = lista_pacientes[\"2\"][\"Fecha salida\"] - lista_pacientes[\"2\"][\"Fecha ingreso\"]\n",
    "hospi_2 = estadia_2.days # saca la cantidad de días que el paciente 2 estuvo en el hospital\n",
    "\n",
    "estadia_3 = lista_pacientes[\"3\"][\"Fecha salida\"] - lista_pacientes[\"3\"][\"Fecha ingreso\"]\n",
    "hospi_3 = estadia_3.days # saca la cantidad de días que el paciente 3 estuvo en el hospital\n",
    "\n",
    "estadia_4 = lista_pacientes[\"4\"][\"Fecha salida\"] - lista_pacientes[\"4\"][\"Fecha ingreso\"]\n",
    "hospi_4 = estadia_4.days # saca la cantidad de días que el paciente 4 estuvo en el hospital\n",
    "\n",
    "# se hace el supuesto de que a pesar de que al pago de la persona menor de edad sí hay que tomarle en cuenta el 13% del IVA.\n",
    "# esto se debe a que en las intrucciones dice \"en todo caso, debe adicionar el con el 13% IVA en Costa Rica\".\n",
    "# no importa si la empresa asume todos los gastos para menores de edad, igual debe pagar impuestos\n",
    "\n",
    "def calculo_hospi(hospi: int, pago_actual: int, edad: int): # crea función que recibe la cantidad de días, el pago actual y la edad\n",
    "    if(hospi < 1):\n",
    "        dic_dia = {\n",
    "            'Pago sin IVA': 8000, \n",
    "            'Pago con IVA': 8000 + 8000 * 0.13,\n",
    "            'IVA': 8000 * 0.13,\n",
    "            'Diferencia con pago actual': (8000 + 8000 * 0.13) - pago_actual\n",
    "        }\n",
    "        return dic_dia\n",
    "    elif(hospi < 30):\n",
    "        dic_mes = {\n",
    "            'Pago sin IVA': hospi * 15000,\n",
    "            'Pago con IVA': hospi * 15000 + hospi * 15000 * 0.13,\n",
    "            'IVA': hospi * 15000 * 0.13,\n",
    "            'Diferencia con pago actual': (hospi * 15000 + hospi * 15000 * 0.13) - pago_actual\n",
    "        }\n",
    "        return dic_mes\n",
    "    else:\n",
    "        dic_hospi = {\n",
    "        'Pago sin IVA': round(hospi/30)*1000000,\n",
    "        'Pago con IVA': round(hospi/30)*1000000 + round(hospi/30)*1000000 * 0.13,\n",
    "        'IVA': round(hospi/30)*1000000 * 0.13,\n",
    "        'Diferencia con pago actual': (round(hospi/30)*1000000 + round(hospi/30)*1000000 * 0.13) - pago_actual\n",
    "    }\n",
    "    return dic_hospi\n",
    "\n",
    "dic_pagos = {\n",
    "    \"1\": calculo_hospi(hospi_1, lista_pacientes[\"1\"][\"Pago de servicios\"], lista_pacientes[\"1\"][\"Edad\"]),\n",
    "    \"2\": calculo_hospi(hospi_2, lista_pacientes[\"2\"][\"Pago de servicios\"], lista_pacientes[\"2\"][\"Edad\"]),\n",
    "    \"3\": calculo_hospi(hospi_3, lista_pacientes[\"3\"][\"Pago de servicios\"], lista_pacientes[\"3\"][\"Edad\"]),\n",
    "    \"4\": calculo_hospi(hospi_4, lista_pacientes[\"4\"][\"Pago de servicios\"], lista_pacientes[\"4\"][\"Edad\"]),\n",
    "}\n",
    "\n",
    "dic_pagos "
   ]
  },
  {
   "cell_type": "markdown",
   "id": "5fc3906b-2ca6-4428-b2a9-fe0c20365145",
   "metadata": {
    "jp-MarkdownHeadingCollapsed": true
   },
   "source": [
    "# Ejercicio 7"
   ]
  },
  {
   "cell_type": "code",
   "execution_count": 8,
   "id": "3bbc6d68-c0b5-44a1-b88f-d81d4e30f318",
   "metadata": {},
   "outputs": [
    {
     "data": {
      "text/plain": [
       "{'Tipo de seguro': 'Carros para Uber',\n",
       " 'Prima base': 212500.0,\n",
       " 'Prima bajo descuento': 191250.00000000003,\n",
       " 'Meses de cobertura': 6,\n",
       " 'Pago Total': 1168750.0}"
      ]
     },
     "execution_count": 8,
     "metadata": {},
     "output_type": "execute_result"
    }
   ],
   "source": [
    "def prima(seguro: str, valor_fiscal: int, cobertura: int):\n",
    "    dic_primas = {\n",
    "        \"Automóviles comunes\": 0.03,\n",
    "        \"Carros para Uber\": 0.05,\n",
    "        \"Motocicletas\": 0.055,\n",
    "        \"Camión\": 0.04,\n",
    "        \"Buses\": 0.05,\n",
    "        \"Embarcaciones\": 0.05,\n",
    "    }\n",
    "\n",
    "    if(cobertura <= 1):\n",
    "        dic_seguros = {\n",
    "            \"Tipo de seguro\": seguro,\n",
    "            \"Prima base\": dic_primas[seguro]*valor_fiscal,\n",
    "            \"Prima bajo descuento\": \"NA\",\n",
    "            \"Meses de cobertura\": cobertura,\n",
    "            \"Pago Total\": (valor_fiscal * (dic_primas[seguro]))*cobertura\n",
    "        }\n",
    "        return dic_seguros\n",
    "    else:\n",
    "        dic_seguros = {\n",
    "            \"Tipo de seguro\": seguro,\n",
    "            \"Prima base\": dic_primas[seguro]*valor_fiscal,\n",
    "            \"Prima bajo descuento\": (dic_primas[seguro] - 0.005)*valor_fiscal,\n",
    "            \"Meses de cobertura\": cobertura,\n",
    "            \"Pago Total\": (dic_primas[seguro]*valor_fiscal) + ((dic_primas[seguro] - 0.005)* valor_fiscal * (cobertura-1))\n",
    "        }\n",
    "        return dic_seguros\n",
    "\n",
    "prima(\"Carros para Uber\", 4250000, 6)"
   ]
  },
  {
   "cell_type": "markdown",
   "id": "c181ad74-254c-457f-960d-a053ba57ce51",
   "metadata": {
    "jp-MarkdownHeadingCollapsed": true
   },
   "source": [
    "# Ejercicio 8"
   ]
  },
  {
   "cell_type": "code",
   "execution_count": 10,
   "id": "46be721c-34e8-41d8-8a23-3e5da527eef7",
   "metadata": {},
   "outputs": [
    {
     "data": {
      "text/plain": [
       "{'Empresa': 'Hospital Acetaminofén',\n",
       " 'Rating': 'A',\n",
       " 'Tasa interés base': 0.07733333333333334,\n",
       " 'Moneda del préstamo': 'Dólar',\n",
       " 'Tasa preferencial': 0.01,\n",
       " 'Tasa por moneda extranjera': 0.035,\n",
       " 'Tasa neta': 0.10233333333333335,\n",
       " 'Monto préstamo solicitado': 1200000,\n",
       " 'Comisiones': 0.05,\n",
       " 'Monto préstamo total': 1260000.0,\n",
       " 'LTV': 0.8,\n",
       " 'Cantidad de meses a pagar': 360,\n",
       " 'Cuota mensual': 10984.552676455965}"
      ]
     },
     "execution_count": 10,
     "metadata": {},
     "output_type": "execute_result"
    }
   ],
   "source": [
    "def credito_empresarial(empresa: str, monto_solicitado: int, plazo: int, moneda: str, rating: str, garantia: str, valor_garantia: int): \n",
    "    dic_ratings = {\n",
    "        \"AAA\": 0.064,\n",
    "        \"AA\": (0.084-0.064)/3+0.064,\n",
    "        \"A\": (0.084-0.064)/3+0.064+(0.084-0.064)/3,\n",
    "        \"BBB\": 0.84,\n",
    "        \"BB\": (0.15-0.084)/3+0.084,\n",
    "        \"B\": (0.15-0.084)/3+0.084+(0.15-0.084)/3,\n",
    "        \"C\": 0.15,\n",
    "        \"D\": 0.25\n",
    "    } # diccionario con los ratings y sus tasas de intereses\n",
    "\n",
    "    # convertir las tasas anuales a mensuales\n",
    "    tasa_mensual = ((dic_ratings[rating]+1)**(1/12))-1\n",
    "    tasa_preferencial = ((0.01+1)**(1/12))-1\n",
    "    tasa_mon_ex = ((0.035+1)**(1/12))-1\n",
    "\n",
    "    # calcular monto préstamo total\n",
    "    monto_total = monto_solicitado * 0.05 + monto_solicitado\n",
    "\n",
    "    # se calculó la cuota mensual utilizando la fórmula R = L/a_n, es la fórmula que nos brindaron para calcular cuotas mensuales de préstamos en el curso Teoría del Interés\n",
    "\n",
    "    if(garantia == \"Si\"): # caso en el que la empresa tiene garantía\n",
    "        if(moneda != \"Colón\"): # caso en el que se usa moneda extranjera\n",
    "            dic_credito = {\n",
    "                \"Empresa\": empresa,\n",
    "                \"Rating\": rating,\n",
    "                \"Tasa interés base\": dic_ratings[rating],\n",
    "                \"Moneda del préstamo\": moneda,\n",
    "                \"Tasa preferencial\": 0.01,\n",
    "                \"Tasa por moneda extranjera\": 0.035,\n",
    "                \"Tasa neta\": dic_ratings[rating] - 0.01 + 0.035,\n",
    "                \"Monto préstamo solicitado\": monto_solicitado,\n",
    "                \"Comisiones\": 0.05,\n",
    "                \"Monto préstamo total\": monto_total,\n",
    "                \"LTV\": monto_solicitado/valor_garantia,\n",
    "                \"Cantidad de meses a pagar\": plazo * 12,\n",
    "                \"Cuota mensual\": monto_total/((1-(1/(1+tasa_mensual-tasa_preferencial+tasa_mon_ex))**(plazo*12))/(tasa_mensual-tasa_preferencial+tasa_mon_ex))\n",
    "            }\n",
    "            return dic_credito\n",
    "        else: # caso en el que no se usa moneda extranjera\n",
    "            dic_credito = {\n",
    "                \"Empresa\": empresa,\n",
    "                \"Rating\": rating,\n",
    "                \"Tasa interés base\": dic_ratings[rating],\n",
    "                \"Moneda del préstamo\": moneda,\n",
    "                \"Tasa preferencial\": 0.01,\n",
    "                \"Tasa por moneda extranjera\": \"NA\",\n",
    "                \"Tasa neta\": dic_ratings[rating] - 0.01,\n",
    "                \"Monto préstamo solicitado\": monto_solicitado,\n",
    "                \"Comisiones\": 0.05,\n",
    "                \"Monto préstamo total\": monto_total,\n",
    "                \"LTV\": monto_solicitado/valor_garantia,\n",
    "                \"Cantidad de meses a pagar\": plazo * 12,\n",
    "                \"Cuota mensual\": monto_total/((1-(1/(1+tasa_mensual-tasa_preferencial))**(plazo*12))/(tasa_mensual-tasa_preferencial))\n",
    "            }\n",
    "            return dic_credito\n",
    "    else: # caso en el que la empresa no tiene garantía\n",
    "        if(moneda != \"Colón\"): # caso en el que usa moneda extranjera\n",
    "            dic_credito = {\n",
    "                \"Empresa\": empresa,\n",
    "                \"Rating\": rating,\n",
    "                \"Tasa interés base\": dic_ratings[rating],\n",
    "                \"Moneda del préstamo\": moneda,\n",
    "                \"Tasa preferencial\": \"NA\",\n",
    "                \"Tasa por moneda extranjera\": 0.035,\n",
    "                \"Tasa neta\": dic_ratings[rating] + 0.035,\n",
    "                \"Monto préstamo solicitado\": monto_solicitado,\n",
    "                \"Comisiones\": 0.05,\n",
    "                \"Monto préstamo total\": monto_total,\n",
    "                \"LTV\": monto_solicitado/valor_garantia,\n",
    "                \"Cantidad de meses a pagar\": plazo * 12,\n",
    "                \"Cuota mensual\": monto_total/((1-(1/(1+tasa_mensual+tasa_mon_ex))**(plazo*12))/(tasa_mensual+tasa_mon_ex))\n",
    "            }\n",
    "            return dic_credito\n",
    "        else: # caso en el que no se usa moneda extranjera\n",
    "            dic_credito = {\n",
    "                \"Empresa\": empresa,\n",
    "                \"Rating\": rating,\n",
    "                \"Tasa interés base\": dic_ratings[rating],\n",
    "                \"Moneda del préstamo\": moneda,\n",
    "                \"Tasa preferencial\": \"NA\",\n",
    "                \"Tasa por moneda extranjera\": \"NA\",\n",
    "                \"Tasa neta\": dic_ratings[rating],\n",
    "                \"Monto préstamo solicitado\": monto_solicitado,\n",
    "                \"Comisiones\": 0.05,\n",
    "                \"Monto préstamo total\": monto_total,\n",
    "                \"LTV\": monto_solicitado/valor_garantia,\n",
    "                \"Cantidad de meses a pagar\": plazo * 12,\n",
    "                \"Cuota mensual\": monto_total/((1-(1/(1+tasa_mensual))**(plazo*12))/(tasa_mensual))\n",
    "            }\n",
    "            return dic_credito\n",
    "\n",
    "credito_empresarial(\"Hospital Acetaminofén\", 1200000, 30, \"Dólar\", \"A\", \"Si\", 1500000) # llamar la función "
   ]
  }
 ],
 "metadata": {
  "kernelspec": {
   "display_name": "Python 3 (ipykernel)",
   "language": "python",
   "name": "python3"
  },
  "language_info": {
   "codemirror_mode": {
    "name": "ipython",
    "version": 3
   },
   "file_extension": ".py",
   "mimetype": "text/x-python",
   "name": "python",
   "nbconvert_exporter": "python",
   "pygments_lexer": "ipython3",
   "version": "3.11.7"
  }
 },
 "nbformat": 4,
 "nbformat_minor": 5
}
